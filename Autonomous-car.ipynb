{
 "cells": [
  {
   "cell_type": "code",
   "execution_count": 1,
   "metadata": {
    "_cell_guid": "b1076dfc-b9ad-4769-8c92-a6c4dae69d19",
    "_uuid": "8f2839f25d086af736a60e9eeb907d3b93b6e0e5",
    "execution": {
     "iopub.execute_input": "2023-07-17T03:26:15.488125Z",
     "iopub.status.busy": "2023-07-17T03:26:15.487310Z",
     "iopub.status.idle": "2023-07-17T03:26:27.760207Z",
     "shell.execute_reply": "2023-07-17T03:26:27.758547Z",
     "shell.execute_reply.started": "2023-07-17T03:26:15.488074Z"
    }
   },
   "outputs": [],
   "source": [
    "import numpy as np\n",
    "import pandas as pd\n",
    "import cv2 as cv\n",
    "import matplotlib.pyplot as plt\n",
    "from sklearn.model_selection import train_test_split\n",
    "from tensorflow.keras.models import Sequential,load_model\n",
    "from tensorflow.keras.layers import Convolution2D,Flatten,Dense,MaxPooling2D,Reshape\n",
    "from keras.callbacks import EarlyStopping, ModelCheckpoint\n",
    "from tensorflow.keras.regularizers import l2"
   ]
  },
  {
   "cell_type": "code",
   "execution_count": 2,
   "metadata": {
    "execution": {
     "iopub.execute_input": "2023-07-17T03:26:27.764135Z",
     "iopub.status.busy": "2023-07-17T03:26:27.763117Z",
     "iopub.status.idle": "2023-07-17T03:26:27.832658Z",
     "shell.execute_reply": "2023-07-17T03:26:27.831210Z",
     "shell.execute_reply.started": "2023-07-17T03:26:27.764084Z"
    }
   },
   "outputs": [],
   "source": [
    "processing_data=np.load(\"D:\\Machine Learning\\AUTONOMOUS CAR\\PROGRAM\\final_models.npy\")\n",
    "ims=processing_data[0]\n",
    "ster=processing_data[1]\n",
    "\n",
    "x_train , x_test ,y_train , y_test =train_test_split(ims,ster,test_size=0.2)"
   ]
  },
  {
   "cell_type": "code",
   "execution_count": 3,
   "metadata": {
    "execution": {
     "iopub.execute_input": "2023-07-17T03:26:27.835008Z",
     "iopub.status.busy": "2023-07-17T03:26:27.834609Z",
     "iopub.status.idle": "2023-07-17T03:26:27.851705Z",
     "shell.execute_reply": "2023-07-17T03:26:27.850602Z",
     "shell.execute_reply.started": "2023-07-17T03:26:27.834971Z"
    }
   },
   "outputs": [],
   "source": [
    "train_image=[]\n",
    "train_sterring=[]\n",
    "test_image=[]\n",
    "test_sterring=[]\n",
    "\n",
    "for m in range(2000):\n",
    "    train_image.append(x_train[m])\n",
    "    train_sterring.append(y_train[m])\n",
    "\n",
    "for n in range(1319):\n",
    "    test_image.append(x_test[n])\n",
    "    test_sterring.append(y_test[n])\n",
    "\n",
    "del m\n",
    "del n"
   ]
  },
  {
   "cell_type": "markdown",
   "metadata": {},
   "source": [
    "# Augmentation"
   ]
  },
  {
   "cell_type": "code",
   "execution_count": 4,
   "metadata": {
    "execution": {
     "iopub.execute_input": "2023-07-17T03:26:27.855474Z",
     "iopub.status.busy": "2023-07-17T03:26:27.854250Z",
     "iopub.status.idle": "2023-07-17T03:26:27.871806Z",
     "shell.execute_reply": "2023-07-17T03:26:27.869358Z",
     "shell.execute_reply.started": "2023-07-17T03:26:27.855427Z"
    }
   },
   "outputs": [],
   "source": [
    "def processing(ims,ster):            \n",
    "    x=[]\n",
    "    y=[]\n",
    "\n",
    "    for i in range(len(ims)):\n",
    "        index=np.random.randint(0,len(ims)-1)\n",
    "        lis=ims[index].split(\"\\\\\")\n",
    "        add=str(\"D:\\Machine Learning\\AUTONOMOUS CAR\\DATA\\IMG\\\\\"+lis[5])\n",
    "        image=cv.imread(add)\n",
    "        steering_str=str(ster[index])\n",
    "        steering_str=float(steering_str)\n",
    "\n",
    "        image=image[60:135,:,:]\n",
    "\n",
    "        image=cv.resize(image, (200,66))\n",
    "\n",
    "        x.append(image)\n",
    "        y.append(steering_str)\n",
    "\n",
    "        if (steering_str > 0):\n",
    "            image=cv.flip(image,1)\n",
    "            steering=-float(ster[index])\n",
    "            x.append(image)\n",
    "            y.append(steering)\n",
    "\n",
    "        else:\n",
    "            image=cv.flip(image,1)\n",
    "            steering=-float(ster[index])\n",
    "            x.append(image)\n",
    "            y.append(steering)\n",
    "\n",
    "    x=np.array(x)\n",
    "    y=np.array(y)\n",
    "\n",
    "    return x,y"
   ]
  },
  {
   "cell_type": "markdown",
   "metadata": {},
   "source": [
    "# CNN Model"
   ]
  },
  {
   "cell_type": "code",
   "execution_count": 144,
   "metadata": {
    "execution": {
     "iopub.execute_input": "2023-07-17T06:21:35.822005Z",
     "iopub.status.busy": "2023-07-17T06:21:35.821393Z",
     "iopub.status.idle": "2023-07-17T06:21:36.035953Z",
     "shell.execute_reply": "2023-07-17T06:21:36.034491Z",
     "shell.execute_reply.started": "2023-07-17T06:21:35.821958Z"
    }
   },
   "outputs": [],
   "source": [
    "model=Sequential()\n",
    "\n",
    "model.add(Convolution2D(filters=16,kernel_size=(5,5),strides=(2,2),input_shape=(66,200,3),activation='relu',))\n",
    "model.add(Convolution2D(filters=32,kernel_size=(5,5),strides=(2,2),activation='relu'))\n",
    "model.add(Convolution2D(filters=64,kernel_size=(3,3),strides=(2,2),activation='relu'))\n",
    "model.add(Convolution2D(filters=256,kernel_size=(3,3),strides=(2,2),activation='relu'))\n",
    "model.add(Convolution2D(filters=256,kernel_size=(3,3),strides=(2,2),activation='relu',padding=\"SAME\"))\n",
    "model.add(Convolution2D(filters=512,kernel_size=(2,2),strides=(2,2),activation='relu',padding=\"SAME\"))\n",
    "model.add(Convolution2D(filters=512,kernel_size=(2,2),strides=(2,2),activation='relu',padding=\"SAME\"))\n",
    "model.add(Flatten())\n",
    "\n",
    "model.add(Dense(units=100,activation=\"relu\"))\n",
    "model.add(Dense(units=50,activation=\"relu\"))\n",
    "model.add(Dense(units=20,activation=\"relu\"))\n",
    "model.add(Dense(units=10,activation=\"relu\"))\n",
    "model.add(Dense(units=1,kernel_regularizer=l2(0.01)))\n",
    "\n",
    "model.compile(optimizer='adam',loss='categorical_crossentropy',metrics=['accuracy'])"
   ]
  },
  {
   "cell_type": "code",
   "execution_count": 145,
   "metadata": {
    "execution": {
     "iopub.execute_input": "2023-07-17T06:21:37.396487Z",
     "iopub.status.busy": "2023-07-17T06:21:37.395984Z",
     "iopub.status.idle": "2023-07-17T06:21:37.447407Z",
     "shell.execute_reply": "2023-07-17T06:21:37.445944Z",
     "shell.execute_reply.started": "2023-07-17T06:21:37.396444Z"
    }
   },
   "outputs": [
    {
     "name": "stdout",
     "output_type": "stream",
     "text": [
      "Model: \"sequential_41\"\n",
      "_________________________________________________________________\n",
      " Layer (type)                Output Shape              Param #   \n",
      "=================================================================\n",
      " conv2d_266 (Conv2D)         (None, 31, 98, 16)        1216      \n",
      "                                                                 \n",
      " conv2d_267 (Conv2D)         (None, 14, 47, 32)        12832     \n",
      "                                                                 \n",
      " conv2d_268 (Conv2D)         (None, 6, 23, 64)         18496     \n",
      "                                                                 \n",
      " conv2d_269 (Conv2D)         (None, 2, 11, 256)        147712    \n",
      "                                                                 \n",
      " conv2d_270 (Conv2D)         (None, 1, 6, 256)         590080    \n",
      "                                                                 \n",
      " conv2d_271 (Conv2D)         (None, 1, 3, 512)         524800    \n",
      "                                                                 \n",
      " conv2d_272 (Conv2D)         (None, 1, 2, 512)         1049088   \n",
      "                                                                 \n",
      " flatten_37 (Flatten)        (None, 1024)              0         \n",
      "                                                                 \n",
      " dense_187 (Dense)           (None, 100)               102500    \n",
      "                                                                 \n",
      " dense_188 (Dense)           (None, 50)                5050      \n",
      "                                                                 \n",
      " dense_189 (Dense)           (None, 20)                1020      \n",
      "                                                                 \n",
      " dense_190 (Dense)           (None, 10)                210       \n",
      "                                                                 \n",
      " dense_191 (Dense)           (None, 1)                 11        \n",
      "                                                                 \n",
      "=================================================================\n",
      "Total params: 2,453,015\n",
      "Trainable params: 2,453,015\n",
      "Non-trainable params: 0\n",
      "_________________________________________________________________\n"
     ]
    }
   ],
   "source": [
    "model.summary()"
   ]
  },
  {
   "cell_type": "markdown",
   "metadata": {},
   "source": [
    "# Process the data from Augmentation "
   ]
  },
  {
   "cell_type": "code",
   "execution_count": 5,
   "metadata": {
    "execution": {
     "iopub.execute_input": "2023-07-17T03:26:27.874068Z",
     "iopub.status.busy": "2023-07-17T03:26:27.873495Z",
     "iopub.status.idle": "2023-07-17T03:26:56.847308Z",
     "shell.execute_reply": "2023-07-17T03:26:56.845890Z",
     "shell.execute_reply.started": "2023-07-17T03:26:27.874026Z"
    }
   },
   "outputs": [],
   "source": [
    "train_data_image,train_data_sterring=processing(train_image,train_sterring)\n",
    "test_data_image,test_data_sterring=processing(test_image,test_sterring)"
   ]
  },
  {
   "cell_type": "markdown",
   "metadata": {},
   "source": [
    "# Train model"
   ]
  },
  {
   "cell_type": "code",
   "execution_count": 147,
   "metadata": {
    "execution": {
     "iopub.execute_input": "2023-07-17T06:22:18.361108Z",
     "iopub.status.busy": "2023-07-17T06:22:18.360661Z",
     "iopub.status.idle": "2023-07-17T06:22:18.368678Z",
     "shell.execute_reply": "2023-07-17T06:22:18.367612Z",
     "shell.execute_reply.started": "2023-07-17T06:22:18.361069Z"
    }
   },
   "outputs": [],
   "source": [
    "es = EarlyStopping(monitor='val_loss', mode='min', verbose=1, patience=20, min_delta=0.001) \n",
    "mc = ModelCheckpoint('Autosave.h5', monitor='val_loss', verbose=1, save_best_only=True, mode='min')"
   ]
  },
  {
   "cell_type": "code",
   "execution_count": 158,
   "metadata": {
    "execution": {
     "iopub.execute_input": "2023-07-17T06:53:39.055263Z",
     "iopub.status.busy": "2023-07-17T06:53:39.054799Z",
     "iopub.status.idle": "2023-07-17T06:58:02.995732Z",
     "shell.execute_reply": "2023-07-17T06:58:02.994274Z",
     "shell.execute_reply.started": "2023-07-17T06:53:39.055218Z"
    }
   },
   "outputs": [
    {
     "name": "stdout",
     "output_type": "stream",
     "text": [
      "Epoch 1/10\n",
      "100/100 [==============================] - 25s 247ms/step - loss: -6.1743e-11 - accuracy: 0.7706\n",
      "Epoch 2/10\n",
      "100/100 [==============================] - 25s 247ms/step - loss: -7.3597e-10 - accuracy: 0.7866\n",
      "Epoch 3/10\n",
      "100/100 [==============================] - 25s 246ms/step - loss: 1.6632e-11 - accuracy: 0.8000\n",
      "Epoch 4/10\n",
      "100/100 [==============================] - 25s 249ms/step - loss: -1.9476e-10 - accuracy: 0.7884\n",
      "Epoch 5/10\n",
      "100/100 [==============================] - 25s 247ms/step - loss: 5.0755e-10 - accuracy: 0.7837\n",
      "Epoch 6/10\n",
      "100/100 [==============================] - 25s 249ms/step - loss: 3.5815e-10 - accuracy: 0.7691\n",
      "Epoch 7/10\n",
      "100/100 [==============================] - 25s 247ms/step - loss: -1.7445e-10 - accuracy: 0.7700\n",
      "Epoch 8/10\n",
      "100/100 [==============================] - 25s 246ms/step - loss: -2.5572e-10 - accuracy: 0.7744\n",
      "Epoch 9/10\n",
      "100/100 [==============================] - 25s 247ms/step - loss: -2.2104e-10 - accuracy: 0.7688\n",
      "Epoch 10/10\n",
      "100/100 [==============================] - 25s 250ms/step - loss: 3.1170e-10 - accuracy: 0.8003\n"
     ]
    },
    {
     "data": {
      "text/plain": [
       "<keras.callbacks.History at 0x7ffa79cceed0>"
      ]
     },
     "execution_count": 158,
     "metadata": {},
     "output_type": "execute_result"
    }
   ],
   "source": [
    "model.fit(train_data_image,train_data_sterring,steps_per_epoch=100,epochs =10,callbacks=[es,mc],batch_size=32)"
   ]
  },
  {
   "cell_type": "markdown",
   "metadata": {},
   "source": [
    "# Save Model"
   ]
  },
  {
   "cell_type": "code",
   "execution_count": 153,
   "metadata": {
    "execution": {
     "iopub.execute_input": "2023-07-17T06:34:16.760970Z",
     "iopub.status.busy": "2023-07-17T06:34:16.760502Z",
     "iopub.status.idle": "2023-07-17T06:34:16.877391Z",
     "shell.execute_reply": "2023-07-17T06:34:16.876334Z",
     "shell.execute_reply.started": "2023-07-17T06:34:16.760926Z"
    }
   },
   "outputs": [],
   "source": [
    "model.save(\"Autonomous_car_model.h5\",model)"
   ]
  },
  {
   "cell_type": "markdown",
   "metadata": {},
   "source": [
    "# Model Prediction"
   ]
  },
  {
   "cell_type": "code",
   "execution_count": 142,
   "metadata": {
    "execution": {
     "iopub.execute_input": "2023-07-17T06:18:33.558847Z",
     "iopub.status.busy": "2023-07-17T06:18:33.558361Z",
     "iopub.status.idle": "2023-07-17T06:18:33.662340Z",
     "shell.execute_reply": "2023-07-17T06:18:33.661047Z",
     "shell.execute_reply.started": "2023-07-17T06:18:33.558804Z"
    }
   },
   "outputs": [
    {
     "name": "stdout",
     "output_type": "stream",
     "text": [
      "1/1 [==============================] - 0s 35ms/step\n",
      "[[-0.00134377]]\n"
     ]
    }
   ],
   "source": [
    "lis=train_image[300].split(\"\\\\\")\n",
    "add=str(\"D:\\Machine Learning\\AUTONOMOUS CAR\\DATA\\IMG\\\\\"+lis[5])\n",
    "\n",
    "image=cv.imread(add)\n",
    "image=cv.cvtColor(image,cv.COLOR_RGB2YUV)\n",
    "image = cv.GaussianBlur(image,  (3, 3), 0)\n",
    "image=image[60:135,:,:]\n",
    "image = cv.resize(image, (200,66))\n",
    "image = image/255.\n",
    "image=np.array([image])\n",
    "sterring_value=model.predict(image)\n",
    "print(sterring_value)"
   ]
  }
 ],
 "metadata": {
  "kernelspec": {
   "display_name": "Python 3 (ipykernel)",
   "language": "python",
   "name": "python3"
  },
  "language_info": {
   "codemirror_mode": {
    "name": "ipython",
    "version": 3
   },
   "file_extension": ".py",
   "mimetype": "text/x-python",
   "name": "python",
   "nbconvert_exporter": "python",
   "pygments_lexer": "ipython3",
   "version": "3.7.9"
  }
 },
 "nbformat": 4,
 "nbformat_minor": 4
}
